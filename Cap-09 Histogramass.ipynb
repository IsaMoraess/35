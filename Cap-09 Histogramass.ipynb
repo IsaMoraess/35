{
 "cells": [
  {
   "cell_type": "markdown",
   "id": "ba973dea",
   "metadata": {},
   "source": [
    "# Histogramas\n",
    "\n",
    "São um tipo de plotagem utilizado para visualizar a distribuição de uma variavel continua. Eles são compostos por barras retagulares adjacentes, onde a área de cada barra é prporcional á frequencia de observações de dados que caem em uma faixa especifica de valores.\n",
    "\n",
    "A variavel continus é dividida em faixas de valores, conhecidas como intervalos de classe. O eixo horizontal representa  os intervalos da classe, enquanto o eixo vertical representa a frquencia de observação de dados que caem em cada intervalo de classe. Os intervalos de classe devem ser escolhidos de forma apropriada para a distribuição dos dados e a escala dos eixos deve ser definida adquadamente.\n",
    "\n",
    "São uteis para visualizar a forma e a dispersão de  uma distribuição de dados continuos, como a altura de uma população ou as pontuações de um teste. Eles podem ajudar a identificar a presença de valores atípicos ou outliers nos dados e fornecer insights importantes sobre a distribuição dos dados."
   ]
  },
  {
   "cell_type": "code",
   "execution_count": null,
   "id": "c453c71c",
   "metadata": {},
   "outputs": [],
   "source": [
    "# Histogramas\n",
    "\n",
    "# Dados\n",
    "n = np.random.randn(100000)\n",
    "\n",
    "# Cria um subplots\n",
    "fig, axes = plt.subplots(1, 2, figsize = (12,4))\n",
    "\n",
    "# Plot 1\n",
    "axes[0].hist(n)\n",
    "axes[0].set_title(\"Histograma Padrão\")\n",
    "axes[0].set_xlim((main(n), max(n)));\n",
    "\n",
    "# Plot 2\n",
    "axes[1].hist(n, comulative = True, bins = 50)\n",
    "axes[1].set_title(\"Histogramas Cumulativo\")\n",
    "axes[1].set_xlim((main(n), max(n)));"
   ]
  }
 ],
 "metadata": {
  "kernelspec": {
   "display_name": "Python 3 (ipykernel)",
   "language": "python",
   "name": "python3"
  },
  "language_info": {
   "codemirror_mode": {
    "name": "ipython",
    "version": 3
   },
   "file_extension": ".py",
   "mimetype": "text/x-python",
   "name": "python",
   "nbconvert_exporter": "python",
   "pygments_lexer": "ipython3",
   "version": "3.9.13"
  }
 },
 "nbformat": 4,
 "nbformat_minor": 5
}
